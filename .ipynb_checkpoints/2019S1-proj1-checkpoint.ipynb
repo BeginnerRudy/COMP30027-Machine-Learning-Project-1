{
 "cells": [
  {
   "cell_type": "markdown",
   "metadata": {},
   "source": [
    "# The University of Melbourne, School of Computing and Information Systems\n",
    "# COMP30027 Machine Learning, 2019 Semester 1\n",
    "-----\n",
    "## Project 1: Gaining Information about Naive Bayes\n",
    "-----\n",
    "###### Student Name(s): Renjie Meng\n",
    "###### Python version: 3.6.5\n",
    "###### Submission deadline: 1pm, Fri 5 Apr 2019"
   ]
  },
  {
   "cell_type": "markdown",
   "metadata": {},
   "source": [
    "This iPython notebook is a template which you may use for your Project 1 submission. (You are not required to use it; in particular, there is no need to use iPython if you do not like it.)\n",
    "\n",
    "Marking will be applied on the five functions that are defined in this notebook, and to your responses to the questions at the end of this notebook.\n",
    "\n",
    "You may change the prototypes of these functions, and you may write other functions, according to your requirements. We would appreciate it if the required functions were prominent/easy to find. "
   ]
  },
  {
   "cell_type": "code",
   "execution_count": 77,
   "metadata": {
    "ExecuteTime": {
     "end_time": "2019-04-04T16:43:36.092751Z",
     "start_time": "2019-04-04T16:43:36.086792Z"
    }
   },
   "outputs": [],
   "source": [
    "import random\n",
    "import math\n",
    "import matplotlib.pyplot as plt\n",
    "import statistics"
   ]
  },
  {
   "cell_type": "code",
   "execution_count": 78,
   "metadata": {
    "ExecuteTime": {
     "end_time": "2019-04-04T16:43:36.122643Z",
     "start_time": "2019-04-04T16:43:36.101217Z"
    }
   },
   "outputs": [],
   "source": [
    "# This function should open a data file in csv, and transform it into a usable format \n",
    "def preprocess(filepath):\n",
    "    '''\n",
    "    Read file by filepath, and make it into a 2-D list\n",
    "    _____________________\n",
    "    Parameter:\n",
    "    filepath -> The filepath of dataset in csv format\n",
    "    ____________________\n",
    "    Return:\n",
    "    A 2-D list which contains the content of the dataset passed in\n",
    "    '''\n",
    "    # open the csv file in a reading mode\n",
    "    csv_file = open(filepath, 'r')\n",
    "    # The dataset for storing data\n",
    "    dataset = []\n",
    "    \n",
    "    # read the csv file line by line\n",
    "    for line in csv_file.readlines():\n",
    "        # Each line of the csv file represents an instance\n",
    "        instance = line.split(',')\n",
    "        # The split method above would capture the newline character '\\n' at end of the line\n",
    "        # Let's remove \"\\n\" by list slicing\n",
    "        instance[-1] = instance[-1][:-1]\n",
    "        # Append current instance to the final dataset\n",
    "        dataset.append(instance)\n",
    "    # Finishing reading, close the file\n",
    "    csv_file.close()\n",
    "    \n",
    "    # return the final dataset \n",
    "    return dataset"
   ]
  },
  {
   "cell_type": "code",
   "execution_count": 79,
   "metadata": {
    "ExecuteTime": {
     "end_time": "2019-04-04T16:43:36.140855Z",
     "start_time": "2019-04-04T16:43:36.126471Z"
    }
   },
   "outputs": [],
   "source": [
    "# This function should build a supervised NB model\n",
    "def train(dataset, k):\n",
    "    '''\n",
    "    Generate prior and posterir distribution from the give dataset.\n",
    "    The class atrribute is assumed to be at the last column of each instance. \n",
    "    _______________________________\n",
    "    Parameter:\n",
    "    dataset -> the trainning dataset in the form of 2-D list\n",
    "    k -> The smoothing parameter\n",
    "    _______________________________\n",
    "    Return:\n",
    "    prior -> A dictionary contains prior distribution of classes, that is P(cj)\n",
    "    posterior -> A dictionary contains posterior, that is P(xi|cj)\n",
    "    '''\n",
    "    return prior_calculator(dataset), posterior_calculator(dataset, k)"
   ]
  },
  {
   "cell_type": "code",
   "execution_count": 80,
   "metadata": {
    "ExecuteTime": {
     "end_time": "2019-04-04T16:43:36.160198Z",
     "start_time": "2019-04-04T16:43:36.144895Z"
    }
   },
   "outputs": [],
   "source": [
    "def prior_calculator(dataset):\n",
    "    \"\"\"\n",
    "    Helper function for train(), responsible for calculating the prior probability of the given dataset\n",
    "    _____________________\n",
    "    Parameter:\n",
    "    dataset -> given dataset for calculating prior\n",
    "    _____________________\n",
    "    Return:\n",
    "    prior -> A dictionary represent the prior of the given dataset\n",
    "    \"\"\"\n",
    "    \n",
    "    prior = {}\n",
    "    number_of_classes = 0\n",
    "    for instance in dataset:\n",
    "        the_class = instance[-1]\n",
    "        # if the class attribute is missing, simply ignore it\n",
    "        if the_class == '?':\n",
    "            pass\n",
    "         # if key is already seen before, just increase the count by 1\n",
    "        elif the_class in prior:\n",
    "            prior[the_class] += 1\n",
    "            number_of_classes += 1\n",
    "        # else create a new (key, value) pair and assign value to 1\n",
    "        else:\n",
    "            prior[the_class] = 1\n",
    "            number_of_classes += 1\n",
    "    \n",
    "    # divide the prior counts by total number to get probability\n",
    "    for the_class in prior.keys():\n",
    "        prior[the_class] /= number_of_classes\n",
    "    \n",
    "    # All done, return the prior\n",
    "    return prior"
   ]
  },
  {
   "cell_type": "code",
   "execution_count": 81,
   "metadata": {
    "ExecuteTime": {
     "end_time": "2019-04-04T16:43:36.179544Z",
     "start_time": "2019-04-04T16:43:36.164296Z"
    }
   },
   "outputs": [],
   "source": [
    "def posterior_calculator(dataset, k):\n",
    "    \"\"\"\n",
    "    This posterior distribution follow the data structure disscussed in lecture\n",
    "    {attribute x: \n",
    "                {class c: \n",
    "                            {attribute_value: value}\n",
    "                }\n",
    "    }\n",
    "   \n",
    "    The posterior gives the probability after \"Laplace smoothing\", that is all count has a initial value of 1,\n",
    "    \n",
    "    P(xi|cj) = (1 + value_count)/(class_count + distinct_value_count_of_attribute)\n",
    "    \n",
    "    _________________________________\n",
    "    Parameter:\n",
    "    dataset -> The give dataset for calculating posterior distribution\n",
    "    k -> The smoothing parameter\n",
    "    _________________________________\n",
    "    Return:\n",
    "    posterior -> A dictionary represents the posterior distribution, that is P(xi|cj)\n",
    "    \"\"\"\n",
    "    # create the framework of the 3-D dictionary for posterior,   \n",
    "    posterior = create_posterior_framework_with_Add_K_smoothing(dataset, k)\n",
    "    \n",
    "    \n",
    "    # total number of attributes\n",
    "    n = len(dataset[0]) - 1\n",
    "    \n",
    "    # count the attribute occurence instance by instance\n",
    "    for instance in dataset:\n",
    "        # is the class has not be included in the dictionary, add it in.\n",
    "        the_class = instance[-1]\n",
    "            \n",
    "        # feature means a attribute associated with value\n",
    "        # count feature according to its class and attribute belongs to\n",
    "        for attribute in range(n):\n",
    "            feature = instance[attribute]\n",
    "            # if the feature is missing, simply ignore it\n",
    "            if feature == '?':\n",
    "                pass\n",
    "            else:\n",
    "                posterior.get(attribute).get(the_class)[feature] += 1\n",
    "    \n",
    "    # do the last step of Laplace smoothing, divide attribtue count by (#class + # distinct attribute)\n",
    "    all_classes = posterior.get(0).keys()\n",
    "    \n",
    "    for attr in range(n):\n",
    "        for the_class in all_classes:\n",
    "            # since we set initial value of each distinct value count to 1, then if we sum up all distinct value\n",
    "            # then we actually get number_of_distinct_value + number_of_1, due to the initial value 1.\n",
    "            num_of_classes_plus_num_of_distinct_values = sum(posterior.get(attr).get(the_class).values())\n",
    "            for distinct_value in posterior.get(attr).get(the_class).keys():\n",
    "                posterior.get(attr).get(the_class)[distinct_value] /= num_of_classes_plus_num_of_distinct_values\n",
    "            \n",
    "    return posterior"
   ]
  },
  {
   "cell_type": "code",
   "execution_count": 82,
   "metadata": {
    "ExecuteTime": {
     "end_time": "2019-04-04T16:43:36.199382Z",
     "start_time": "2019-04-04T16:43:36.183022Z"
    }
   },
   "outputs": [],
   "source": [
    "def create_posterior_framework_with_Add_K_smoothing(dataset, k):\n",
    "    '''\n",
    "    Helper function of posterior_calculator.\n",
    "    This function intend to create a data structure shown as below:\n",
    "     {attribute x: \n",
    "                {class c: \n",
    "                            {attribute_value: 1}\n",
    "                }\n",
    "    }\n",
    "    \n",
    "    Note that the initial value of each attribute_value is 1, since I apply Laplace smoothing\n",
    "    _________________________\n",
    "    Parameter:\n",
    "    dataset-> given dataset\n",
    "    k -> The smoothing parameter\n",
    "    _________________________\n",
    "    Return:\n",
    "    posterior_framework -> The generated framework described above\n",
    "    '''\n",
    "    # the length of each instance => number of attributes in total\n",
    "    n = len(dataset[0])\n",
    "        \n",
    "    # find distinct values of all attributes, include the class attribute\n",
    "    # The data structure for storing information about distinct values is\n",
    "    #\n",
    "    # {attribute_1: [distinct_value_1, ..., distinct_value_n],\n",
    "    # ....\n",
    "    #  attribute_n: [distinct_value_1, ..., distinct_value_n],\n",
    "    #  }\n",
    "    \n",
    "    attribute_distinct_value = {}     \n",
    "    for i in range(n):\n",
    "        attribute_distinct_value[i] = []\n",
    "    \n",
    "    for instance in dataset:\n",
    "        for attr in range(n):\n",
    "            feature = instance[attr]\n",
    "            # if the attribute is missing, simply ignore it\n",
    "            if feature == '?':\n",
    "                pass\n",
    "            elif feature not in attribute_distinct_value.get(attr):\n",
    "                attribute_distinct_value[attr].append(feature)\n",
    "                \n",
    "                \n",
    "    # generate posterior_framework depends on attribute_distinct_value\n",
    "    num_attr = n - 1 # class attribute should be excluded\n",
    "    posterior_framework = {}     \n",
    "    for i in range(num_attr):\n",
    "        posterior_framework[i] = {}\n",
    "    \n",
    "    # class attributes processing\n",
    "    class_distinct_value = attribute_distinct_value.get(n-1)\n",
    "    \n",
    "    for attr in posterior_framework.keys():\n",
    "        for the_class in class_distinct_value:\n",
    "            posterior_framework.get(attr)[the_class] = {}\n",
    "    \n",
    "    # attribute processing\n",
    "    for attr in posterior_framework.keys():\n",
    "        for the_class in class_distinct_value:\n",
    "            for distinct_value in attribute_distinct_value.get(attr):\n",
    "                posterior_framework.get(attr).get(the_class)[distinct_value] = k\n",
    "    \n",
    "    # All done!\n",
    "    return posterior_framework"
   ]
  },
  {
   "cell_type": "code",
   "execution_count": 83,
   "metadata": {
    "ExecuteTime": {
     "end_time": "2019-04-04T16:43:36.215255Z",
     "start_time": "2019-04-04T16:43:36.203847Z"
    }
   },
   "outputs": [],
   "source": [
    "# This function should predict the class for an instance or a set of instances, based on a trained model \n",
    "def predict(test_set, prior, posterior):\n",
    "    '''\n",
    "    Predict the class label for each instance in test_set, the data structure of the result is:\n",
    "    [ prediction1, prediction2, ..., prediction_n]\n",
    "    If for some instance, there are several classes share the max probability, then predict the lable by \n",
    "    randomly choose one from these classes, this task is delegated to argmax(test_instance, prior, posterior).\n",
    "    ____________________________\n",
    "    Parameter:\n",
    "    test_set -> A 2D list contains test instances \n",
    "    prior -> Given prior distribution, which is a dictionary\n",
    "    posterior -> Given posterior distribution, which is a 3D dictionary.\n",
    "    ____________________________\n",
    "    Return:\n",
    "    test_results -> A list of results.\n",
    "    '''\n",
    "    # use arg max to find the class with highes probability of generating one test instance, \n",
    "    # and do it for each instance\n",
    "    test_results = []\n",
    "    for test_instance in test_set:\n",
    "        # arg max\n",
    "        test_results.append(argmax(test_instance, prior, posterior))\n",
    "        \n",
    "    return test_results"
   ]
  },
  {
   "cell_type": "code",
   "execution_count": 84,
   "metadata": {
    "ExecuteTime": {
     "end_time": "2019-04-04T16:43:36.234670Z",
     "start_time": "2019-04-04T16:43:36.218231Z"
    }
   },
   "outputs": [],
   "source": [
    "def argmax(test_instance, prior, posterior):\n",
    "    '''\n",
    "    Find the class with largest probability for realizing the given test instance.\n",
    "    If for some instance, there are several classes share the max probability, then predict the lable by \n",
    "    randomly choose one from these classes.\n",
    "    ______________________________________\n",
    "    Parameter:\n",
    "    test_set -> A 2D list contains test instances \n",
    "    prior -> Given prior distribution, which is a dictionary\n",
    "    posterior -> Given posterior distribution, which is a 3D dictionary.\n",
    "    ______________________________________\n",
    "    Return:\n",
    "    curr_argmax_class -> The class with max probability\n",
    "    '''\n",
    "    # get list of all possible class from prior\n",
    "    classes = list(prior.keys())\n",
    "    # I set curr_argmax_class to a list, since there could be more than 1 class shre max probability\n",
    "    curr_argmax_class = [classes[0]]\n",
    "    curr_max_probability = probability_of_class_given_instance_calculator(test_instance, prior, posterior,\n",
    "                                                                             classes[0])\n",
    "    \n",
    "    for the_class in classes[1:]:\n",
    "        curr_prob = probability_of_class_given_instance_calculator(test_instance, prior, posterior,\n",
    "                                                                             the_class)\n",
    "        # handle class with same max probability\n",
    "        if curr_prob == curr_max_probability:\n",
    "            curr_argmax_class.append(the_class)\n",
    "        elif curr_prob > curr_max_probability:\n",
    "            curr_max_probability = curr_prob\n",
    "            curr_argmax_class = [the_class]\n",
    "    \n",
    "    # If there are more than one classes, choose one from them randomly\n",
    "    if len(curr_argmax_class) > 1:\n",
    "        curr_argmax_class = curr_argmax_class[random.randrange(0, len(curr_argmax_class)-1)]\n",
    "    # If there is only one, make it into a scalar, that is not a container.\n",
    "    else:\n",
    "        curr_argmax_class = curr_argmax_class[0]\n",
    "    return curr_argmax_class"
   ]
  },
  {
   "cell_type": "code",
   "execution_count": 85,
   "metadata": {
    "ExecuteTime": {
     "end_time": "2019-04-04T16:43:36.249974Z",
     "start_time": "2019-04-04T16:43:36.238071Z"
    }
   },
   "outputs": [],
   "source": [
    "def probability_of_class_given_instance_calculator(instance, prior, posterior, the_class):\n",
    "    '''\n",
    "    Calculat P(C=c|T=t) = prod(P(tj|C=c))*P(C = c)\n",
    "    Applying log transformation =>  log(P(C=c|T=t)) = log(sum(P(tj|C=c)) + log(P(C = c))\n",
    "    ________________________________________________\n",
    "    Parameter:\n",
    "    instance -> A test instances \n",
    "    prior -> Given prior distribution, which is a dictionary\n",
    "    posterior -> Given posterior distribution, which is a 3D dictionary.\n",
    "    the_class -> The given class\n",
    "    ________________________________________________\n",
    "    Return:\n",
    "     posterior_probablity*prior.get(the_class) -> prod(P(tj|C=c))*P(C = c)\n",
    "    '''\n",
    "    posterior_probablity = 0\n",
    "    for attr in range(len(instance) - 1):\n",
    "        feature = instance[attr]\n",
    "        # handle missing value by ignore it\n",
    "        if feature == \"?\":\n",
    "            pass\n",
    "        # Apply log transformation \n",
    "        else:\n",
    "            posterior_probablity += math.log(posterior.get(attr).get(the_class).get(feature))/math.log(2)\n",
    "    return posterior_probablity + math.log(prior.get(the_class))/math.log(2)"
   ]
  },
  {
   "cell_type": "code",
   "execution_count": 86,
   "metadata": {
    "ExecuteTime": {
     "end_time": "2019-04-04T16:43:36.264853Z",
     "start_time": "2019-04-04T16:43:36.253154Z"
    }
   },
   "outputs": [],
   "source": [
    "# This function should evaluate a set of predictions, in a supervised context \n",
    "def evaluate(test_label, predict_label):\n",
    "    '''\n",
    "    This evaluation applies the Accuracy metrix, it cares about how often the classifier get correct. \n",
    "    ___________________________________\n",
    "    Parameter:\n",
    "    test_label -> A list of actually label corresponds to each instance\n",
    "    predict_label -> A list of predicted label corresponds to each instance\n",
    "    ___________________________________\n",
    "    Return:\n",
    "    correct/n -> Accuracy, which is how of the classifier get correct.\n",
    "    '''\n",
    "    correct = 0\n",
    "    n = len(test_label)\n",
    "    for i in range(n):\n",
    "        if test_label[i] == predict_label[i]:\n",
    "            correct += 1\n",
    "    \n",
    "    return correct/n"
   ]
  },
  {
   "cell_type": "code",
   "execution_count": 87,
   "metadata": {
    "ExecuteTime": {
     "end_time": "2019-04-04T16:43:36.288662Z",
     "start_time": "2019-04-04T16:43:36.268866Z"
    }
   },
   "outputs": [],
   "source": [
    "# This function should calculate the Information Gain of an attribute or a set of attribute, with respect to the class\n",
    "def info_gain(the_dataset):\n",
    "    '''\n",
    "    Calculate the information gain of each attribtues with respect to the class distribution.\n",
    "    Before calculating, for each attribute, delete insatnce has missing value for that attribute.\n",
    "    That is, we first calculate the entropy of instance's class distribution. \n",
    "    Then, calculate the mean information depends on value of attributes.\n",
    "    Lastly, subtract mean information from the entropy of root class distribution\n",
    "    _____________________________\n",
    "    Parameter:\n",
    "    dataset -> the given dataset for calculating information gain\n",
    "    _____________________________\n",
    "    Return:\n",
    "    IG -> A dictionary contains the final information gain.\n",
    "    '''\n",
    "    \n",
    "    IG = {}\n",
    "    Entropy_Of_Classes = {}\n",
    "    Mean_Info_Given_Attr = {}\n",
    "    attr_and_distinct_values = {}\n",
    "    \n",
    "    # generate a list of int represents for attributes\n",
    "    attributes = list(range(len(the_dataset[0][:-1])))\n",
    "    \n",
    "    # initialize the 3 dictionaries, given each attribute initial value of 0.\n",
    "    for attr in attributes:\n",
    "        IG[attr] = 0\n",
    "        Mean_Info_Given_Attr[attr] = 0\n",
    "        attr_and_distinct_values[attr] = {}\n",
    "        Entropy_Of_Classes[attr] = 0\n",
    "    \n",
    "    \n",
    "    # get distinct value of each attribute, and counting how many of each are there\n",
    "    for instance in the_dataset:\n",
    "        for attr in attributes:\n",
    "            feature = instance[attr]\n",
    "            if feature == '?':\n",
    "                pass\n",
    "            elif feature in attr_and_distinct_values.get(attr):\n",
    "                attr_and_distinct_values.get(attr)[feature] += 1\n",
    "            \n",
    "            elif feature not in attr_and_distinct_values.get(attr):\n",
    "                attr_and_distinct_values.get(attr)[feature] = 1\n",
    "    \n",
    "    \n",
    "    # Calculate the mean information given each attribute\n",
    "    for attr in attributes:\n",
    "        # filter out instances has missing values for current attribute\n",
    "        dataset = preprocess_info_gain(the_dataset, attr)\n",
    "        # get the entropy for class distribution\n",
    "        class_distribution = get_classes_distribution_by_attr_value(dataset)\n",
    "        Entropy_Of_Classes[attr] = H(class_distribution)\n",
    "        mean_info = 0\n",
    "        for value in list(attr_and_distinct_values.get(attr).keys()):\n",
    "            # get the class distribution given the distinct value\n",
    "            classes_distribution_given_distinct_value  = get_classes_distribution_by_attr_value(dataset, attr, value)\n",
    "            weight_of_value =  attr_and_distinct_values.get(attr).get(value)/sum(list(attr_and_distinct_values.get(attr).values()))  \n",
    "            mean_info += H(classes_distribution_given_distinct_value)*weight_of_value\n",
    "        Mean_Info_Given_Attr[attr] = mean_info\n",
    "        \n",
    "        \n",
    "    # Calculate IG by H(attribtue) - H(attribute|Class) = Information Gain\n",
    "    for attr in attributes:\n",
    "        IG[attr] = Entropy_Of_Classes.get(attr) - Mean_Info_Given_Attr.get(attr)\n",
    "    \n",
    "    \n",
    "    \n",
    "    return IG"
   ]
  },
  {
   "cell_type": "code",
   "execution_count": 88,
   "metadata": {
    "ExecuteTime": {
     "end_time": "2019-04-04T16:43:36.308502Z",
     "start_time": "2019-04-04T16:43:36.293622Z"
    }
   },
   "outputs": [],
   "source": [
    "def preprocess_info_gain(the_dataset, attr):\n",
    "    '''\n",
    "    This function is used to discard instance with missing value\n",
    "    before calculating the information gain for each attribtue.\n",
    "    ____________________________________________\n",
    "    Parameter:\n",
    "    the_dataset -> The dataset given\n",
    "    attr -> The attribute going to calculating information gain\n",
    "    ____________________________________________\n",
    "    Return:\n",
    "    dataset -> The dataset discarded missing value\n",
    "    '''\n",
    "    dataset = []\n",
    "    \n",
    "    for instance in the_dataset:\n",
    "        # filter out the instance with missing value for current attribtue.\n",
    "        feature = instance[attr]\n",
    "        # encounter with missing value => filtered out\n",
    "        if feature == '?':\n",
    "            pass\n",
    "        else:\n",
    "            dataset.append(instance)\n",
    "    \n",
    "    return dataset"
   ]
  },
  {
   "cell_type": "code",
   "execution_count": 89,
   "metadata": {
    "ExecuteTime": {
     "end_time": "2019-04-04T16:43:36.323382Z",
     "start_time": "2019-04-04T16:43:36.311974Z"
    }
   },
   "outputs": [],
   "source": [
    "def H(distribution):\n",
    "    '''\n",
    "    Calculate the entropy of the distribution by H(X) = -1 * sum(P(X = x)*log2(P(X = x)))\n",
    "    __________________________\n",
    "    Paramater:\n",
    "    distribution -> the given distribution for calculating\n",
    "    __________________________\n",
    "    Return:\n",
    "    entropy -> the result of entropy\n",
    "    '''\n",
    "    # Find all distinct value and Count number of occurence of each distinct value\n",
    "    distinct_values = {}     \n",
    "    total_value_count = 0\n",
    "    for value in distribution:\n",
    "        # if the attribute is missing, simply ignore it\n",
    "        if value == '?':\n",
    "            pass\n",
    "        elif value in distinct_values:\n",
    "            distinct_values[value] += 1\n",
    "            total_value_count += 1\n",
    "        elif value not in distinct_values:\n",
    "            distinct_values[value] = 1\n",
    "            total_value_count += 1\n",
    "        \n",
    "    # Divide by total number to get probability and  Calculate the entropy\n",
    "    entropy = 0\n",
    "    for value in list(distinct_values.keys()):\n",
    "        distinct_values[value] /= total_value_count\n",
    "        entropy += -1 * distinct_values[value] * (math.log(distinct_values[value])/math.log(2))\n",
    "    return entropy"
   ]
  },
  {
   "cell_type": "code",
   "execution_count": 90,
   "metadata": {
    "ExecuteTime": {
     "end_time": "2019-04-04T16:43:36.338757Z",
     "start_time": "2019-04-04T16:43:36.326359Z"
    }
   },
   "outputs": [],
   "source": [
    "def get_classes_distribution_by_attr_value(dataset, attr = None, value = None):\n",
    "    '''\n",
    "    Filter the dataset by given attr's value, and return the result\n",
    "    _________________________________\n",
    "    Parameter:\n",
    "    dataset -> Given dataset to filter\n",
    "    attr -> Given attribute to filter\n",
    "    value -> Given value of the given attribute to filter\n",
    "    _________________________________\n",
    "    Return:\n",
    "    new_data_set -> the dataset only contains class labels\n",
    "    '''\n",
    "    \n",
    "    if attr == None and value == None:\n",
    "        distribution = []\n",
    "        for instance in dataset:\n",
    "            if instance[-1] != '?':\n",
    "                distribution.append(instance[-1])\n",
    "        return distribution\n",
    "    \n",
    "    new_classes_distribution = []\n",
    "    for instance in  dataset:\n",
    "        if instance[attr] == value:\n",
    "            new_classes_distribution.append(instance[-1])\n",
    "    return new_classes_distribution"
   ]
  },
  {
   "cell_type": "markdown",
   "metadata": {},
   "source": [
    "Questions (you may respond in a cell or cells below):\n",
    "\n",
    "1. The Naive Bayes classifiers can be seen to vary, in terms of their effectiveness on the given datasets (e.g. in terms of Accuracy). Consider the Information Gain of each attribute, relative to the class distribution — does this help to explain the classifiers’ behaviour? Identify any results that are particularly surprising, and explain why they occur.\n",
    "2. The Information Gain can be seen as a kind of correlation coefficient between a pair of attributes: when the gain is low, the attribute values are uncorrelated; when the gain is high, the attribute values are correlated. In supervised ML, we typically calculate the Infomation Gain between a single attribute and the class, but it can be calculated for any pair of attributes. Using the pair-wise IG as a proxy for attribute interdependence, in which cases are our NB assumptions violated? Describe any evidence (or indeed, lack of evidence) that this is has some effect on the effectiveness of the NB classifier.\n",
    "3. Since we have gone to all of the effort of calculating Infomation Gain, we might as well use that as a criterion for building a “Decision Stump” (1-R classifier). How does the effectiveness of this classifier compare to Naive Bayes? Identify one or more cases where the effectiveness is notably different, and explain why.\n",
    "4. Evaluating the model on the same data that we use to train the model is considered to be a major mistake in Machine Learning. Implement a hold–out or cross–validation evaluation strategy. How does your estimate of effectiveness change, compared to testing on the training data? Explain why. (The result might surprise you!)\n",
    "5. Implement one of the advanced smoothing regimes (add-k, Good-Turing). Does changing the smoothing regime (or indeed, not smoothing at all) affect the effectiveness of the Naive Bayes classifier? Explain why, or why not.\n",
    "6. Naive Bayes is said to elegantly handle missing attribute values. For the datasets with missing values, is there any evidence that the performance is different on the instances with missing values, compared to the instances where all of the values are present? Does it matter which, or how many values are missing? Would a imputation strategy have any effect on this?\n",
    "\n",
    "Don't forget that groups of 1 student should respond to question (1), and one other question of your choosing. Groups of 2 students should respond to question (1) and question (2), and two other questions of your choosing. Your responses should be about 150-250 words each."
   ]
  },
  {
   "cell_type": "markdown",
   "metadata": {},
   "source": [
    "### Question 1"
   ]
  },
  {
   "cell_type": "code",
   "execution_count": 91,
   "metadata": {
    "ExecuteTime": {
     "end_time": "2019-04-04T16:43:36.359102Z",
     "start_time": "2019-04-04T16:43:36.342231Z"
    }
   },
   "outputs": [],
   "source": [
    "def accuracy_of_NB_classifier(file_paths, k):\n",
    "    '''\n",
    "    This function is used to performa Naive Bayes classifier over a bunch of datasets given by file_paths and\n",
    "    with a add-k smoohting strategy\n",
    "    ______________________________\n",
    "    Parameter:\n",
    "    file_path -> a list of file path of each dataset\n",
    "    k -> The smoothing parameter\n",
    "    ______________________________\n",
    "    Return:\n",
    "    accuracy_dict -> A dictionary include (dataset name, accuracy)\n",
    "    '''\n",
    "    accuracy_dict = {}\n",
    "    for file_path in file_paths:\n",
    "        dataset_name = file_path.split('/')[-1].split('.')[0]\n",
    "        \n",
    "        dataset =  preprocess(file_path)\n",
    "        prior, posterior = train(dataset, k)\n",
    "        actual_labels = [instance[-1] for instance in dataset]\n",
    "        predict_labels = predict(dataset, prior, posterior)\n",
    "        accuracy = evaluate(predict_labels, actual_labels)\n",
    "        \n",
    "        accuracy_dict[dataset_name] = accuracy\n",
    "    return accuracy_dict"
   ]
  },
  {
   "cell_type": "code",
   "execution_count": 92,
   "metadata": {
    "ExecuteTime": {
     "end_time": "2019-04-04T16:43:36.374668Z",
     "start_time": "2019-04-04T16:43:36.362071Z"
    }
   },
   "outputs": [],
   "source": [
    "def info_gain_of_datasets(file_paths):\n",
    "      '''\n",
    "    This function is used to performa information gain over a bunch of datasets given by file_paths \n",
    "    ______________________________\n",
    "    Parameter:\n",
    "    file_path -> a list of file path of each dataset\n",
    "    ______________________________\n",
    "    Return:\n",
    "    info_gain_dict -> A dictionary include {dataset name:\n",
    "                                                            {attribute: info gain}\n",
    "                                            }\n",
    "    '''\n",
    "    info_gain_dict = {}\n",
    "    for file_path in file_paths:\n",
    "        dataset_name = file_path.split('/')[-1].split('.')[0]\n",
    "        \n",
    "        dataset =  preprocess(file_path)\n",
    "        ig = info_gain(dataset)\n",
    "        \n",
    "        info_gain_dict[dataset_name] = ig\n",
    "    return info_gain_dict"
   ]
  },
  {
   "cell_type": "code",
   "execution_count": 93,
   "metadata": {
    "ExecuteTime": {
     "end_time": "2019-04-04T16:43:36.390444Z",
     "start_time": "2019-04-04T16:43:36.377942Z"
    }
   },
   "outputs": [],
   "source": [
    "def accuracy_report(acc_dict):\n",
    "    datasets = sorted(acc_dict, key=lambda k: acc_dict[k], reverse=True)\n",
    "    print(\"The accuracy table:\")\n",
    "    for dataset in datasets:\n",
    "        print(dataset + \" \"+ str(acc_dict.get(dataset)))\n",
    "        \n",
    "    print('\\n')\n",
    "    accuracy_list = list(acc_dict.values())\n",
    "    mean_accuracy = sum(accuracy_list)/len(accuracy_list)\n",
    "    var_of_accu = sum([(accu - mean_accuracy)**2 for accu in accuracy_list])/len(accuracy_list)\n",
    "    print(\"The mean accuracy is \" + str(mean_accuracy))\n",
    "    print(\"The max accuracy is \" + str(max(accuracy_list)))\n",
    "    print(\"The min accuracy is \" + str(min(accuracy_list)))\n",
    "    print(\"The median accuracy is \" + str(statistics.median(accuracy_list)))\n",
    "    print(\"The std of accuracy is \" + str(var_of_accu**0.5))\n",
    "    return"
   ]
  },
  {
   "cell_type": "code",
   "execution_count": 94,
   "metadata": {
    "ExecuteTime": {
     "end_time": "2019-04-04T16:43:36.410184Z",
     "start_time": "2019-04-04T16:43:36.393815Z"
    }
   },
   "outputs": [],
   "source": [
    "def info_gain_report(ig_dict):\n",
    "    mean_info_gain_dict = {}\n",
    "    for dataset in list(ig_dict.keys()):\n",
    "        mean_info_gain = sum(list(ig_dict.get(dataset).values()))/len(list(ig_dict.get(dataset).values()))\n",
    "        mean_info_gain_dict[dataset] = mean_info_gain\n",
    "    datasets = sorted(mean_info_gain_dict, key=lambda k: mean_info_gain_dict[k], reverse=True)\n",
    "    print(\"The average info gain table:\")\n",
    "    for dataset in datasets:\n",
    "        print(dataset + \" \"+ str(mean_info_gain_dict.get(dataset)))\n",
    "        \n",
    "    print('\\n')\n",
    "    ig_list = list(mean_info_gain_dict.values())\n",
    "    mean_ig = sum(ig_list)/len(ig_list)\n",
    "    print(\"The mean average info gain  is \" + str(mean_ig))\n",
    "    print(\"The max average info gain  is \" + str(max(ig_list)))\n",
    "    print(\"The median average info gain  is \" + str(statistics.median(ig_list)))\n",
    "    print(\"The min average info gain  is \" + str(min(ig_list)))\n",
    "    return"
   ]
  },
  {
   "cell_type": "code",
   "execution_count": 95,
   "metadata": {
    "ExecuteTime": {
     "end_time": "2019-04-04T16:43:36.429532Z",
     "start_time": "2019-04-04T16:43:36.414648Z"
    }
   },
   "outputs": [],
   "source": [
    "def scatter_plot_IG(ig_dict, acc_dict):\n",
    "    datasets = sorted(acc_dict, key=lambda k: acc_dict[k], reverse=True)\n",
    "    for dataset in datasets:\n",
    "        ig_distribution = list(ig_dict.get(dataset).values())\n",
    "        plt.scatter(x=list(range(len(ig_distribution))), y=ig_distribution)\n",
    "        plt.legend(dataset)\n",
    "        plt.xlim([0, 35])\n",
    "        plt.ylim([0, 1])\n",
    "        print(dataset + \" Accuracy is \" + str(acc_dict.get(dataset)))\n",
    "        mean_info_gain = sum(list(ig_dict.get(dataset).values()))/len(list(ig_dict.get(dataset).values()))\n",
    "        print(\"The average info gain over given each attribute is \" + str(mean_info_gain))\n",
    "        plt.show()\n",
    "    return"
   ]
  },
  {
   "cell_type": "code",
   "execution_count": 96,
   "metadata": {
    "ExecuteTime": {
     "end_time": "2019-04-04T16:43:36.445902Z",
     "start_time": "2019-04-04T16:43:36.435974Z"
    }
   },
   "outputs": [],
   "source": [
    "datasets = ['anneal', 'breast-cancer', 'car', 'cmc', 'hepatitis', 'hypothyroid', 'mushroom', 'nursery',\n",
    "           'primary-tumor']\n",
    "root_path = './2019S1-proj1-data_dos/'\n",
    "extension = '.csv'\n",
    "file_paths = [root_path + name + extension for name in datasets]"
   ]
  },
  {
   "cell_type": "code",
   "execution_count": 97,
   "metadata": {
    "ExecuteTime": {
     "end_time": "2019-04-04T16:43:42.589387Z",
     "start_time": "2019-04-04T16:43:36.449863Z"
    }
   },
   "outputs": [],
   "source": [
    "acc_dict = accuracy_of_NB_classifier(file_paths, 1)\n",
    "ig_dict = info_gain_of_datasets(file_paths)"
   ]
  },
  {
   "cell_type": "code",
   "execution_count": 98,
   "metadata": {
    "ExecuteTime": {
     "end_time": "2019-04-04T16:43:42.604924Z",
     "start_time": "2019-04-04T16:43:42.595297Z"
    }
   },
   "outputs": [
    {
     "name": "stdout",
     "output_type": "stream",
     "text": [
      "The accuracy table:\n",
      "mushroom 0.9588872476612507\n",
      "hypothyroid 0.9519443566234588\n",
      "anneal 0.9220489977728286\n",
      "nursery 0.9030092592592592\n",
      "car 0.8715277777777778\n",
      "hepatitis 0.832258064516129\n",
      "breast-cancer 0.7482517482517482\n",
      "primary-tumor 0.5545722713864307\n",
      "cmc 0.5057705363204344\n",
      "\n",
      "\n",
      "The mean accuracy is 0.8053633621743687\n",
      "The max accuracy is 0.9588872476612507\n",
      "The min accuracy is 0.5057705363204344\n",
      "The median accuracy is 0.8715277777777778\n",
      "The std of accuracy is 0.15958997949397682\n"
     ]
    }
   ],
   "source": [
    "accuracy_report(acc_dict)"
   ]
  },
  {
   "cell_type": "markdown",
   "metadata": {},
   "source": [
    "From the result above, it shows that the accuracy of NB classifier has a max of 0.9589 while a min of 0.3493. Furthermore, the standard deviation of acuuracy is around 22.95%, which means the accraucy of datasets could esaily vary a lot. "
   ]
  },
  {
   "cell_type": "code",
   "execution_count": 99,
   "metadata": {
    "ExecuteTime": {
     "end_time": "2019-04-04T16:43:42.632074Z",
     "start_time": "2019-04-04T16:43:42.610175Z"
    }
   },
   "outputs": [
    {
     "name": "stdout",
     "output_type": "stream",
     "text": [
      "The average info gain table:\n",
      "primary-tumor 0.20169725600765742\n",
      "mushroom 0.19775430469566968\n",
      "nursery 0.1614732050742847\n",
      "car 0.11441568230991826\n",
      "anneal 0.08821663741692538\n",
      "hepatitis 0.05332561251530439\n",
      "cmc 0.037994977434708865\n",
      "breast-cancer 0.03415721491997018\n",
      "hypothyroid 0.0022634641406119255\n",
      "\n",
      "\n",
      "The mean average info gain  is 0.0990331505016723\n",
      "The max average info gain  is 0.20169725600765742\n",
      "The median average info gain  is 0.08821663741692538\n",
      "The min average info gain  is 0.0022634641406119255\n"
     ]
    }
   ],
   "source": [
    "info_gain_report(ig_dict)"
   ]
  },
  {
   "cell_type": "code",
   "execution_count": 100,
   "metadata": {
    "ExecuteTime": {
     "end_time": "2019-04-04T16:43:45.003868Z",
     "start_time": "2019-04-04T16:43:42.635471Z"
    },
    "scrolled": true
   },
   "outputs": [
    {
     "name": "stdout",
     "output_type": "stream",
     "text": [
      "mushroom Accuracy is 0.9588872476612507\n",
      "The average info gain over given each attribute is 0.19775430469566968\n"
     ]
    },
    {
     "data": {
      "image/png": "[encoded data removed]",
      "text/plain": [
       "<Figure size 432x288 with 1 Axes>"
      ]
     },
     "metadata": {},
     "output_type": "display_data"
    },
    {
     "name": "stdout",
     "output_type": "stream",
     "text": [
      "hypothyroid Accuracy is 0.9519443566234588\n",
      "The average info gain over given each attribute is 0.0022634641406119255\n"
     ]
    },
    {
     "data": {
      "image/png": "[encoded data removed]",
      "text/plain": [
       "<Figure size 432x288 with 1 Axes>"
      ]
     },
     "metadata": {},
     "output_type": "display_data"
    },
    {
     "name": "stdout",
     "output_type": "stream",
     "text": [
      "anneal Accuracy is 0.9220489977728286\n",
      "The average info gain over given each attribute is 0.08821663741692538\n"
     ]
    },
    {
     "data": {
      "image/png": "[encoded data removed]",
      "text/plain": [
       "<Figure size 432x288 with 1 Axes>"
      ]
     },
     "metadata": {},
     "output_type": "display_data"
    },
    {
     "name": "stdout",
     "output_type": "stream",
     "text": [
      "nursery Accuracy is 0.9030092592592592\n",
      "The average info gain over given each attribute is 0.1614732050742847\n"
     ]
    },
    {
     "data": {
      "image/png": "[encoded data removed]",
      "text/plain": [
       "<Figure size 432x288 with 1 Axes>"
      ]
     },
     "metadata": {},
     "output_type": "display_data"
    },
    {
     "name": "stdout",
     "output_type": "stream",
     "text": [
      "car Accuracy is 0.8715277777777778\n",
      "The average info gain over given each attribute is 0.11441568230991826\n"
     ]
    },
    {
     "data": {
      "image/png": "[encoded data removed]",
      "text/plain": [
       "<Figure size 432x288 with 1 Axes>"
      ]
     },
     "metadata": {},
     "output_type": "display_data"
    },
    {
     "name": "stdout",
     "output_type": "stream",
     "text": [
      "hepatitis Accuracy is 0.832258064516129\n",
      "The average info gain over given each attribute is 0.05332561251530439\n"
     ]
    },
    {
     "data": {
      "image/png": "[encoded data removed]",
      "text/plain": [
       "<Figure size 432x288 with 1 Axes>"
      ]
     },
     "metadata": {},
     "output_type": "display_data"
    },
    {
     "name": "stdout",
     "output_type": "stream",
     "text": [
      "breast-cancer Accuracy is 0.7482517482517482\n",
      "The average info gain over given each attribute is 0.03415721491997018\n"
     ]
    },
    {
     "data": {
      "image/png": "[encoded data removed]",
      "text/plain": [
       "<Figure size 432x288 with 1 Axes>"
      ]
     },
     "metadata": {},
     "output_type": "display_data"
    },
    {
     "name": "stdout",
     "output_type": "stream",
     "text": [
      "primary-tumor Accuracy is 0.5545722713864307\n",
      "The average info gain over given each attribute is 0.20169725600765742\n"
     ]
    },
    {
     "data": {
      "image/png": "[encoded data removed]",
      "text/plain": [
       "<Figure size 432x288 with 1 Axes>"
      ]
     },
     "metadata": {},
     "output_type": "display_data"
    },
    {
     "name": "stdout",
     "output_type": "stream",
     "text": [
      "cmc Accuracy is 0.5057705363204344\n",
      "The average info gain over given each attribute is 0.037994977434708865\n"
     ]
    },
    {
     "data": {
      "image/png": "[encoded data removed]",
      "text/plain": [
       "<Figure size 432x288 with 1 Axes>"
      ]
     },
     "metadata": {},
     "output_type": "display_data"
    }
   ],
   "source": [
    "scatter_plot_IG(ig_dict, acc_dict)"
   ]
  },
  {
   "cell_type": "markdown",
   "metadata": {},
   "source": [
    "I believe that information gain **could not** explain why Naive Bayes classifier varies a lot.<br><br>\n",
    "In the above section, I listed all datasets in an descending order of its NB classifier's Accuracy, along with its average information gain for each attribue and a scatter plot about information gain for each attribtue.<br><br>\n",
    "Before inspecting these plot, I supposed that the higher average information gain of a dataset would imply a higher accuracy. However, I was supurised by the scatter plot for hypothyroid, the information gain for all attribtues are extremely low, but the accuracy is above 95%! <br><br>\n",
    "Furthermore, the scatter plot for primary-tumor shows that it has high accuracy. Actually, primary-tumor has the max average information gain. However, the accuracy for it is around 55%, which is the 2nd lowest among all.<br><br>\n",
    "\n",
    "These makes me to think that the higher the average information gain could imply lower NB classifier accuracy.<br><br>\n",
    "\n",
    "Let's assume that accuracy beyond mean (include equal to mean) is considered to be high while other is low. Same for average information gain.<br><br>\n",
    "\n",
    "Then, we could following information:<br><br>\n",
    "Dataset,--------Accuracy, Average information gain<br>\n",
    "primary-tumor, -low, ---high<br>\n",
    "mushroom,-------high, ---high<br>\n",
    "nursery, -------high, ---high<br>\n",
    "car, -----------high, ---high<br><br>\n",
    "anneal, --------high, ---low<br>\n",
    "hepatitis, -----high, ---low<br>\n",
    "cmc, -----------low, ---low<br>\n",
    "breast-cancer, -low, ---low<br>\n",
    "hypothyroid,----high, ---low<br><br><br>\n",
    "From above, we could see that datasets with high average information gain have $3\\over 4$ probability to have high accuracy while $1\\over 4$ probability yo have low accracy.<br>\n",
    "Datasets with low average information gain have $3\\over 5$ probability to have high accuracy while $2\\over 5$ probability yo have low accracy.<br><br>\n",
    "In my opinion, as shown above, there is not much difference in the distribution of Accuracy(considered to be high or low) given the average information gain of the dataset(high or low).That is, datasets with low or high information gain behaviours similar.<br><br>\n",
    "\n",
    "Therefore, information gain **could not** explain why Naive Bayes classifier varies a lot."
   ]
  },
  {
   "cell_type": "markdown",
   "metadata": {},
   "source": [
    "###  Question 5"
   ]
  },
  {
   "cell_type": "markdown",
   "metadata": {},
   "source": [
    "5. Implement one of the advanced smoothing regimes (add-k, Good-Turing). Does changing the smoothing regime (or indeed, not smoothing at all) affect the effectiveness of the Naive Bayes classifier? Explain why, or why not."
   ]
  },
  {
   "cell_type": "code",
   "execution_count": 167,
   "metadata": {
    "ExecuteTime": {
     "end_time": "2019-04-04T17:46:12.147028Z",
     "start_time": "2019-04-04T17:46:12.135176Z"
    }
   },
   "outputs": [],
   "source": [
    "import numpy\n",
    "def accuracy_of_NB_classifier_Q5(file_paths):\n",
    "    '''\n",
    "    This function is used to performa Naive Bayes classifier over a bunch of datasets given by file_paths and\n",
    "    with add-k smoohting strategy over a  range of k \n",
    "    ______________________________\n",
    "    Parameter:\n",
    "    file_path -> a list of file path of each dataset\n",
    "    ______________________________\n",
    "    Return:\n",
    "    accuracy_dict -> A dictionary include (dataset name, (k, accuracy))\n",
    "    '''\n",
    "    accuracy_dict = {}\n",
    "    for file_path in file_paths:\n",
    "        dataset_name = file_path.split('/')[-1].split('.')[0]\n",
    "        \n",
    "        # create dictionary for each k \n",
    "        for k in numpy.arange(0.1, 1, 0.1):\n",
    "            accuracy_dict[dataset_name] = {}\n",
    "        \n",
    "        dataset =  preprocess(file_path)\n",
    "        \n",
    "        for k in numpy.arange(0.1, 1, 0.1):\n",
    "            prior, posterior = train(dataset, k)\n",
    "            actual_labels = [instance[-1] for instance in dataset]\n",
    "            predict_labels = predict(dataset, prior, posterior)\n",
    "            accuracy = evaluate(predict_labels, actual_labels)\n",
    "            accuracy_dict[dataset_name][k] = accuracy\n",
    "    return accuracy_dict"
   ]
  },
  {
   "cell_type": "code",
   "execution_count": 161,
   "metadata": {
    "ExecuteTime": {
     "end_time": "2019-04-04T17:13:14.362765Z",
     "start_time": "2019-04-04T17:13:14.356813Z"
    }
   },
   "outputs": [],
   "source": [
    "def accuracy_report_Q5(acc_dict):\n",
    "    for dataset in list(acc_dict.keys()):\n",
    "        print(\"The accuracy table for dataset over different k for\" + dataset)\n",
    "        for k in list(acc_dict.get(dataset).keys()):\n",
    "             print(\"k = \" + \"{0:.1f}\".format(k)\\\n",
    "                  + \". The Accuracy is \" +  str(acc_dict.get(dataset).get(k)))\n",
    "        \n",
    "        print('================================================')\n",
    "    return"
   ]
  },
  {
   "cell_type": "code",
   "execution_count": 165,
   "metadata": {
    "ExecuteTime": {
     "end_time": "2019-04-04T17:15:37.510269Z",
     "start_time": "2019-04-04T17:15:37.505026Z"
    }
   },
   "outputs": [],
   "source": [
    "def plot_report_Q5(acc_dict):\n",
    "    for dataset in list(acc_dict.keys()):\n",
    "        accuracies_distribution = list(acc_dict.get(dataset).values())\n",
    "        plt.scatter(x=list(acc_dict.get(dataset).keys()), y=accuracies_distribution)\n",
    "        plt.legend(dataset)\n",
    "#         plt.xlim([0, 35])\n",
    "#         plt.ylim([0, 1])\n",
    "        plt.show()\n",
    "    return"
   ]
  },
  {
   "cell_type": "code",
   "execution_count": 168,
   "metadata": {
    "ExecuteTime": {
     "end_time": "2019-04-04T17:46:54.216061Z",
     "start_time": "2019-04-04T17:46:15.536540Z"
    }
   },
   "outputs": [
    {
     "name": "stdout",
     "output_type": "stream",
     "text": [
      "The accuracy table for dataset over different k foranneal\n",
      "k = 0.1. The Accuracy is 0.9387527839643652\n",
      "k = 0.2. The Accuracy is 0.9342984409799554\n",
      "k = 0.3. The Accuracy is 0.9309576837416481\n",
      "k = 0.4. The Accuracy is 0.9298440979955457\n",
      "k = 0.5. The Accuracy is 0.9276169265033407\n",
      "k = 0.6. The Accuracy is 0.9242761692650334\n",
      "k = 0.7. The Accuracy is 0.923162583518931\n",
      "k = 0.8. The Accuracy is 0.923162583518931\n",
      "k = 0.9. The Accuracy is 0.923162583518931\n",
      "================================================\n",
      "The accuracy table for dataset over different k forbreast-cancer\n",
      "k = 0.1. The Accuracy is 0.7587412587412588\n",
      "k = 0.2. The Accuracy is 0.7552447552447552\n",
      "k = 0.3. The Accuracy is 0.7552447552447552\n",
      "k = 0.4. The Accuracy is 0.7587412587412588\n",
      "k = 0.5. The Accuracy is 0.7587412587412588\n",
      "k = 0.6. The Accuracy is 0.7552447552447552\n",
      "k = 0.7. The Accuracy is 0.7517482517482518\n",
      "k = 0.8. The Accuracy is 0.7482517482517482\n",
      "k = 0.9. The Accuracy is 0.7482517482517482\n",
      "================================================\n",
      "The accuracy table for dataset over different k forcar\n",
      "k = 0.1. The Accuracy is 0.8726851851851852\n",
      "k = 0.2. The Accuracy is 0.8726851851851852\n",
      "k = 0.3. The Accuracy is 0.8721064814814815\n",
      "k = 0.4. The Accuracy is 0.8721064814814815\n",
      "k = 0.5. The Accuracy is 0.8721064814814815\n",
      "k = 0.6. The Accuracy is 0.8709490740740741\n",
      "k = 0.7. The Accuracy is 0.8709490740740741\n",
      "k = 0.8. The Accuracy is 0.8709490740740741\n",
      "k = 0.9. The Accuracy is 0.8709490740740741\n",
      "================================================\n",
      "The accuracy table for dataset over different k forcmc\n",
      "k = 0.1. The Accuracy is 0.5057705363204344\n",
      "k = 0.2. The Accuracy is 0.5057705363204344\n",
      "k = 0.3. The Accuracy is 0.5057705363204344\n",
      "k = 0.4. The Accuracy is 0.5057705363204344\n",
      "k = 0.5. The Accuracy is 0.5057705363204344\n",
      "k = 0.6. The Accuracy is 0.5057705363204344\n",
      "k = 0.7. The Accuracy is 0.5057705363204344\n",
      "k = 0.8. The Accuracy is 0.5057705363204344\n",
      "k = 0.9. The Accuracy is 0.5057705363204344\n",
      "================================================\n",
      "The accuracy table for dataset over different k forhepatitis\n",
      "k = 0.1. The Accuracy is 0.8387096774193549\n",
      "k = 0.2. The Accuracy is 0.8387096774193549\n",
      "k = 0.3. The Accuracy is 0.8387096774193549\n",
      "k = 0.4. The Accuracy is 0.832258064516129\n",
      "k = 0.5. The Accuracy is 0.832258064516129\n",
      "k = 0.6. The Accuracy is 0.832258064516129\n",
      "k = 0.7. The Accuracy is 0.832258064516129\n",
      "k = 0.8. The Accuracy is 0.832258064516129\n",
      "k = 0.9. The Accuracy is 0.832258064516129\n",
      "================================================\n",
      "The accuracy table for dataset over different k forhypothyroid\n",
      "k = 0.1. The Accuracy is 0.9522605121719886\n",
      "k = 0.2. The Accuracy is 0.9522605121719886\n",
      "k = 0.3. The Accuracy is 0.9522605121719886\n",
      "k = 0.4. The Accuracy is 0.9522605121719886\n",
      "k = 0.5. The Accuracy is 0.9522605121719886\n",
      "k = 0.6. The Accuracy is 0.9522605121719886\n",
      "k = 0.7. The Accuracy is 0.9519443566234588\n",
      "k = 0.8. The Accuracy is 0.9519443566234588\n",
      "k = 0.9. The Accuracy is 0.9519443566234588\n",
      "================================================\n",
      "The accuracy table for dataset over different k formushroom\n",
      "k = 0.1. The Accuracy is 0.9835056622353521\n",
      "k = 0.2. The Accuracy is 0.9788281634662728\n",
      "k = 0.3. The Accuracy is 0.9746430329886755\n",
      "k = 0.4. The Accuracy is 0.9707040866568193\n",
      "k = 0.5. The Accuracy is 0.966518956179222\n",
      "k = 0.6. The Accuracy is 0.9644263909404235\n",
      "k = 0.7. The Accuracy is 0.9627031019202363\n",
      "k = 0.8. The Accuracy is 0.9615952732644018\n",
      "k = 0.9. The Accuracy is 0.9596258000984736\n",
      "================================================\n",
      "The accuracy table for dataset over different k fornursery\n",
      "k = 0.1. The Accuracy is 0.9030864197530865\n",
      "k = 0.2. The Accuracy is 0.9030092592592592\n",
      "k = 0.3. The Accuracy is 0.9030092592592592\n",
      "k = 0.4. The Accuracy is 0.9030092592592592\n",
      "k = 0.5. The Accuracy is 0.9030092592592592\n",
      "k = 0.6. The Accuracy is 0.9030092592592592\n",
      "k = 0.7. The Accuracy is 0.9030092592592592\n",
      "k = 0.8. The Accuracy is 0.9030092592592592\n",
      "k = 0.9. The Accuracy is 0.9030092592592592\n",
      "================================================\n",
      "The accuracy table for dataset over different k forprimary-tumor\n",
      "k = 0.1. The Accuracy is 0.5899705014749262\n",
      "k = 0.2. The Accuracy is 0.5899705014749262\n",
      "k = 0.3. The Accuracy is 0.5870206489675516\n",
      "k = 0.4. The Accuracy is 0.5870206489675516\n",
      "k = 0.5. The Accuracy is 0.5752212389380531\n",
      "k = 0.6. The Accuracy is 0.5752212389380531\n",
      "k = 0.7. The Accuracy is 0.5693215339233039\n",
      "k = 0.8. The Accuracy is 0.5634218289085545\n",
      "k = 0.9. The Accuracy is 0.5575221238938053\n",
      "================================================\n"
     ]
    }
   ],
   "source": [
    "# This part may take 45 s to run, it would run 10 NB classifier on each dataset\n",
    "import numpy\n",
    "datasets = ['anneal', 'breast-cancer', 'car', 'cmc', 'hepatitis', 'hypothyroid', 'mushroom', 'nursery','primary-tumor']\n",
    "root_path = './2019S1-proj1-data_dos/'\n",
    "extension = '.csv'\n",
    "file_paths = [root_path + name + extension for name in datasets]\n",
    "\n",
    "acc_dict = accuracy_of_NB_classifier_Q5(file_paths)\n",
    "accuracy_report_Q5(acc_dict)"
   ]
  },
  {
   "cell_type": "code",
   "execution_count": 166,
   "metadata": {
    "ExecuteTime": {
     "end_time": "2019-04-04T17:16:19.152670Z",
     "start_time": "2019-04-04T17:16:16.612458Z"
    },
    "collapsed": true
   },
   "outputs": [
    {
     "data": {
      "image/png": "[encoded data removed]",
      "text/plain": [
       "<Figure size 432x288 with 1 Axes>"
      ]
     },
     "metadata": {},
     "output_type": "display_data"
    },
    {
     "data": {
      "image/png": "[encoded data removed]",
      "text/plain": [
       "<Figure size 432x288 with 1 Axes>"
      ]
     },
     "metadata": {},
     "output_type": "display_data"
    },
    {
     "data": {
      "image/png": "[encoded data removed]",
      "text/plain": [
       "<Figure size 432x288 with 1 Axes>"
      ]
     },
     "metadata": {},
     "output_type": "display_data"
    },
    {
     "data": {
      "image/png": "[encoded data removed]",
      "text/plain": [
       "<Figure size 432x288 with 1 Axes>"
      ]
     },
     "metadata": {},
     "output_type": "display_data"
    },
    {
     "data": {
      "image/png": "[encoded data removed]",
      "text/plain": [
       "<Figure size 432x288 with 1 Axes>"
      ]
     },
     "metadata": {},
     "output_type": "display_data"
    },
    {
     "data": {
      "image/png": "[encoded data removed]",
      "text/plain": [
       "<Figure size 432x288 with 1 Axes>"
      ]
     },
     "metadata": {},
     "output_type": "display_data"
    },
    {
     "data": {
      "image/png": "[encoded data removed]",
      "text/plain": [
       "<Figure size 432x288 with 1 Axes>"
      ]
     },
     "metadata": {},
     "output_type": "display_data"
    },
    {
     "data": {
      "image/png": "[encoded data removed]",
      "text/plain": [
       "<Figure size 432x288 with 1 Axes>"
      ]
     },
     "metadata": {},
     "output_type": "display_data"
    },
    {
     "data": {
      "image/png": "[encoded data removed]",
      "text/plain": [
       "<Figure size 432x288 with 1 Axes>"
      ]
     },
     "metadata": {},
     "output_type": "display_data"
    }
   ],
   "source": [
    "# Draw out the plot about accuracy of NB classifier against k\n",
    "plot_report_Q5(acc_dict)"
   ]
  },
  {
   "cell_type": "markdown",
   "metadata": {},
   "source": [
    "I implement the add-k smoothing and I found that the effectiveness of NB classifier decreases as k increased. From the figures above we could see that for each dataset there is a overall negative relationship between k and accuracy, that is the larger k is the lower accuracy is. <br><br>\n",
    "\n",
    "In my opinion, the cause of this behaviour is testing on the training data. If we take k as 0, then it means there is no smoothing. Since in NB's prediction, it is necessary to consider every class, there is a chance that some classes does not have particular atrribute value, this would cause a 0 probability problem. However, here, due to test on trainning data, the class contains 0 proability must not be the actual class.<br><br>\n",
    "\n",
    "Then, if we take k any value except 0, those classes previously contains 0 probability, now, have the final probability (the product) of none zero, which sometime could be the class with max probability. But these classes previously contains 0 probability is the wrong class. Thus, in this case, add-k smoothing would make NB classifer go wrong more often, which leads to a lower accuracy than no smoothing.<br><br>\n",
    "\n",
    "As k goes up, the final probability of classes previously contains 0 probability increased. As a result, those classes previously contain 0 probability increases. Then, NB classifier tends to predict hose classes previously contain 0 probability more often, which leads to a lower accuracy<br>"
   ]
  }
 ],
 "metadata": {
  "kernelspec": {
   "display_name": "Python 3",
   "language": "python",
   "name": "python3"
  },
  "language_info": {
   "codemirror_mode": {
    "name": "ipython",
    "version": 3
   },
   "file_extension": ".py",
   "mimetype": "text/x-python",
   "name": "python",
   "nbconvert_exporter": "python",
   "pygments_lexer": "ipython3",
   "version": "3.6.7"
  },
  "toc": {
   "base_numbering": 1,
   "nav_menu": {},
   "number_sections": true,
   "sideBar": true,
   "skip_h1_title": false,
   "title_cell": "Table of Contents",
   "title_sidebar": "Contents",
   "toc_cell": false,
   "toc_position": {},
   "toc_section_display": true,
   "toc_window_display": true
  }
 },
 "nbformat": 4,
 "nbformat_minor": 2
}
